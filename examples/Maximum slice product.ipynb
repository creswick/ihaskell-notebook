{
 "metadata": {
  "name": "Maximum slice product"
 },
 "nbformat": 3,
 "nbformat_minor": 0,
 "worksheets": [
  {
   "cells": [
    {
     "cell_type": "code",
     "collapsed": false,
     "input": [
      "%load_ext ghcimagic"
     ],
     "language": "python",
     "metadata": {},
     "outputs": [],
     "prompt_number": 1
    },
    {
     "cell_type": "markdown",
     "metadata": {},
     "source": [
      "A Slightly Non-trivial Example\n",
      "==============================\n",
      "\n",
      "Problem\n",
      "-------\n",
      "\n",
      "Consider the 20x20 grid of numbers below:\n",
      "\n",
      "    08 02 22 97 38 15 00 40 00 75 04 05 07 78 52 12 50 77 91 08\n",
      "    49 49 99 40 17 81 18 57 60 87 17 40 98 43 69 48 04 56 62 00\n",
      "    81 49 31 73 55 79 14 29 93 71 40 67 53 88 30 03 49 13 36 65\n",
      "    52 70 95 23 04 60 11 42 69 24 68 56 01 32 56 71 37 02 36 91\n",
      "    22 31 16 71 51 67 63 89 41 92 36 54 22 40 40 28 66 33 13 80\n",
      "    24 47 32 60 99 03 45 02 44 75 33 53 78 36 84 20 35 17 12 50\n",
      "    32 98 81 28 64 23 67 10 26 38 40 67 59 54 70 66 18 38 64 70\n",
      "    67 26 20 68 02 62 12 20 95 63 94 39 63 08 40 91 66 49 94 21\n",
      "    24 55 58 05 66 73 99 26 97 17 78 78 96 83 14 88 34 89 63 72\n",
      "    21 36 23 09 75 00 76 44 20 45 35 14 00 61 33 97 34 31 33 95\n",
      "    78 17 53 28 22 75 31 67 15 94 03 80 04 62 16 14 09 53 56 92\n",
      "    16 39 05 42 96 35 31 47 55 58 88 24 00 17 54 24 36 29 85 57\n",
      "    86 56 00 48 35 71 89 07 05 44 44 37 44 60 21 58 51 54 17 58\n",
      "    19 80 81 68 05 94 47 69 28 73 92 13 86 52 17 77 04 89 55 40\n",
      "    04 52 08 83 97 35 99 16 07 97 57 32 16 26 26 79 33 27 98 66\n",
      "    88 36 68 87 57 62 20 72 03 46 33 67 46 55 12 32 63 93 53 69\n",
      "    04 42 16 73 38 25 39 11 24 94 72 18 08 46 29 32 40 62 76 36\n",
      "    20 69 36 41 72 30 23 88 34 62 99 69 82 67 59 85 74 04 36 16\n",
      "    20 73 35 29 78 31 90 01 74 31 49 71 48 86 81 16 23 57 05 54\n",
      "    01 70 54 71 83 51 54 69 16 92 33 48 61 43 52 01 89 19 67 48\n",
      "\n",
      "Let's say that 4 numbers in the grid are `consecutive` if they are adjacent in either the horizontal, vertical, or diagonal directions. For example, `08 02 22 97` are consecutive in the upper left corner, as are `40 04 05 48` in the lower right corner.\n",
      "\n",
      "Question\n",
      "--------\n",
      "\n",
      "Which set of 4 consecutive numbers in the grid have the largest product?"
     ]
    },
    {
     "cell_type": "markdown",
     "metadata": {},
     "source": [
      "Data Wrangling\n",
      "--------------"
     ]
    },
    {
     "cell_type": "markdown",
     "metadata": {},
     "source": [
      "Let's start with the grid data in a big string, split it into words, and convert those words to actual Ints."
     ]
    },
    {
     "cell_type": "code",
     "collapsed": false,
     "input": [
      "let gridStr = \"08 02 22 97 38 15 00 40 00 75 04 05 07 78 52 12 50 77 91 08 49 49 99 40 17 81 18 57 60 87 17 40 98 43 69 48 04 56 62 00 81 49 31 73 55 79 14 29 93 71 40 67 53 88 30 03 49 13 36 65 52 70 95 23 04 60 11 42 69 24 68 56 01 32 56 71 37 02 36 91 22 31 16 71 51 67 63 89 41 92 36 54 22 40 40 28 66 33 13 80 24 47 32 60 99 03 45 02 44 75 33 53 78 36 84 20 35 17 12 50 32 98 81 28 64 23 67 10 26 38 40 67 59 54 70 66 18 38 64 70 67 26 20 68 02 62 12 20 95 63 94 39 63 08 40 91 66 49 94 21 24 55 58 05 66 73 99 26 97 17 78 78 96 83 14 88 34 89 63 72 21 36 23 09 75 00 76 44 20 45 35 14 00 61 33 97 34 31 33 95 78 17 53 28 22 75 31 67 15 94 03 80 04 62 16 14 09 53 56 92 16 39 05 42 96 35 31 47 55 58 88 24 00 17 54 24 36 29 85 57 86 56 00 48 35 71 89 07 05 44 44 37 44 60 21 58 51 54 17 58 19 80 81 68 05 94 47 69 28 73 92 13 86 52 17 77 04 89 55 40 04 52 08 83 97 35 99 16 07 97 57 32 16 26 26 79 33 27 98 66 88 36 68 87 57 62 20 72 03 46 33 67 46 55 12 32 63 93 53 69 04 42 16 73 38 25 39 11 24 94 72 18 08 46 29 32 40 62 76 36 20 69 36 41 72 30 23 88 34 62 99 69 82 67 59 85 74 04 36 16 20 73 35 29 78 31 90 01 74 31 49 71 48 86 81 16 23 57 05 54 01 70 54 71 83 51 54 69 16 92 33 48 61 43 52 01 89 19 67 48\"\n",
      "    gridWords = words gridStr\n",
      "    gridInts  = map (\\l -> read l :: Int) gridWords"
     ],
     "language": "python",
     "metadata": {},
     "outputs": [],
     "prompt_number": 1
    },
    {
     "cell_type": "markdown",
     "metadata": {},
     "source": [
      "List the first 4 numbers."
     ]
    },
    {
     "cell_type": "code",
     "collapsed": false,
     "input": [
      "take 4 gridInts"
     ],
     "language": "python",
     "metadata": {},
     "outputs": [
      {
       "output_type": "display_data",
       "text": [
        "[8,2,22,97]"
       ]
      }
     ],
     "prompt_number": 1
    },
    {
     "cell_type": "markdown",
     "metadata": {},
     "source": [
      "Step 1\n",
      "------\n",
      "\n",
      "The first task is extracting consecutive sequences from the grid. Let's start with a simpler problem: extract all length 4 consecutive sequences from a list of numbers. The following two functions seem useful for this."
     ]
    },
    {
     "cell_type": "code",
     "collapsed": false,
     "input": [
      "-- sliceN extracts an `n` character sequence from `s` starting at index `i`\n",
      "let sliceN n i s = reverse $ take n $ reverse $ take (i+n) s\n",
      "\n",
      "-- slices returns all length `n` sequences from s\n",
      "    slices n s | n <= 0        = [[]]\n",
      "               | n > length s  = [[]]\n",
      "               | otherwise     = map (\\i -> sliceN n i s) [0..k]\n",
      "                                 where k = (length s) - n"
     ],
     "language": "python",
     "metadata": {},
     "outputs": [],
     "prompt_number": 1
    },
    {
     "cell_type": "markdown",
     "metadata": {},
     "source": [
      "Let's try it out on a small list."
     ]
    },
    {
     "cell_type": "code",
     "collapsed": false,
     "input": [
      "slices 4 [1..10]"
     ],
     "language": "python",
     "metadata": {},
     "outputs": [
      {
       "output_type": "display_data",
       "text": [
        "[[1,2,3,4],[2,3,4,5],[3,4,5,6],[4,5,6,7],[5,6,7,8],[6,7,8,9],[7,8,9,10]]"
       ]
      }
     ],
     "prompt_number": 1
    },
    {
     "cell_type": "markdown",
     "metadata": {},
     "source": [
      "Now for our grid data."
     ]
    },
    {
     "cell_type": "code",
     "collapsed": false,
     "input": [
      "take 3 $ slices 4 gridInts"
     ],
     "language": "python",
     "metadata": {},
     "outputs": [
      {
       "output_type": "display_data",
       "text": [
        "[[8,2,22,97],[2,22,97,38],[22,97,38,15]]"
       ]
      }
     ],
     "prompt_number": 1
    },
    {
     "cell_type": "markdown",
     "metadata": {},
     "source": [
      "That's the first 4 of over 400."
     ]
    },
    {
     "cell_type": "code",
     "collapsed": false,
     "input": [
      "maximum . (map product) $ slices 4 gridInts"
     ],
     "language": "python",
     "metadata": {},
     "outputs": [
      {
       "output_type": "display_data",
       "text": [
        "48477312"
       ]
      }
     ],
     "prompt_number": 1
    },
    {
     "cell_type": "markdown",
     "metadata": {},
     "source": [
      "Turns out that's not the answer, because we've a) considered sets of 4 numbers which aren't actually adjacent in the grid, and b) not included most of the sets (the vertical and diagonal ones)."
     ]
    },
    {
     "cell_type": "markdown",
     "metadata": {},
     "source": [
      "Step 2\n",
      "------\n",
      "\n",
      "As a second step, let's take our list of 400 numbers and turn it into a list of 20 lists (of size 20). This better represents our grid. Let's define a function that acts like `splitAt`, but iterates until it exhausts the input list."
     ]
    },
    {
     "cell_type": "code",
     "collapsed": false,
     "input": [
      "let splitAtRepeat :: Int -> [a] -> [[a]]\n",
      "    splitAtRepeat n [] = [[]]\n",
      "    splitAtRepeat n xs\n",
      "              | n >= length xs = [xs]\n",
      "              | otherwise     = [x1] ++ (splitAtRepeat n x2)\n",
      "              where\n",
      "              x1 = fst q\n",
      "              x2 = snd q\n",
      "              q  = splitAt n xs"
     ],
     "language": "python",
     "metadata": {},
     "outputs": [],
     "prompt_number": 1
    },
    {
     "cell_type": "code",
     "collapsed": false,
     "input": [
      "splitAtRepeat 2 [1..4]"
     ],
     "language": "python",
     "metadata": {},
     "outputs": [
      {
       "output_type": "display_data",
       "text": [
        "[[1,2],[3,4]]"
       ]
      }
     ],
     "prompt_number": 1
    },
    {
     "cell_type": "code",
     "collapsed": false,
     "input": [
      "let grid2d = splitAtRepeat 20 gridInts"
     ],
     "language": "python",
     "metadata": {},
     "outputs": [],
     "prompt_number": 1
    },
    {
     "cell_type": "code",
     "collapsed": false,
     "input": [
      "putStrLn $ show grid2d"
     ],
     "language": "python",
     "metadata": {},
     "outputs": [
      {
       "output_type": "display_data",
       "text": [
        "[[8,2,22,97,38,15,0,40,0,75,4,5,7,78,52,12,50,77,91,8],[49,49,99,40,17,81,18,57,60,87,17,40,98,43,69,48,4,56,62,0],[81,49,31,73,55,79,14,29,93,71,40,67,53,88,30,3,49,13,36,65],[52,70,95,23,4,60,11,42,69,24,68,56,1,32,56,71,37,2,36,91],[22,31,16,71,51,67,63,89,41,92,36,54,22,40,40,28,66,33,13,80],[24,47,32,60,99,3,45,2,44,75,33,53,78,36,84,20,35,17,12,50],[32,98,81,28,64,23,67,10,26,38,40,67,59,54,70,66,18,38,64,70],[67,26,20,68,2,62,12,20,95,63,94,39,63,8,40,91,66,49,94,21],[24,55,58,5,66,73,99,26,97,17,78,78,96,83,14,88,34,89,63,72],[21,36,23,9,75,0,76,44,20,45,35,14,0,61,33,97,34,31,33,95],[78,17,53,28,22,75,31,67,15,94,3,80,4,62,16,14,9,53,56,92],[16,39,5,42,96,35,31,47,55,58,88,24,0,17,54,24,36,29,85,57],[86,56,0,48,35,71,89,7,5,44,44,37,44,60,21,58,51,54,17,58],[19,80,81,68,5,94,47,69,28,73,92,13,86,52,17,77,4,89,55,40],[4,52,8,83,97,35,99,16,7,97,57,32,16,26,26,79,33,27,98,66],[88,36,68,87,57,62,20,72,3,46,33,67,46,55,12,32,63,93,53,69],[4,42,16,73,38,25,39,11,24,94,72,18,8,46,29,32,40,62,76,36],[20,69,36,41,72,30,23,88,34,62,99,69,82,67,59,85,74,4,36,16],[20,73,35,29,78,31,90,1,74,31,49,71,48,86,81,16,23,57,5,54],[1,70,54,71,83,51,54,69,16,92,33,48,61,43,52,1,89,19,67,48]]"
       ]
      }
     ],
     "prompt_number": 1
    },
    {
     "cell_type": "markdown",
     "metadata": {},
     "source": [
      "We have a 2d list, now for the fun part -- extract all the segments from which to make 4 element slices. To save some time (and code), we'll use some handy functions from the `utility-ht` package, including `transpose`, `shear`."
     ]
    },
    {
     "cell_type": "code",
     "collapsed": false,
     "input": [
      "-- $ cabal install utility-ht\n",
      "import Data.List    -- for transpose\n",
      "import Data.List.HT -- for slice and shear"
     ],
     "language": "python",
     "metadata": {},
     "outputs": [],
     "prompt_number": 1
    },
    {
     "cell_type": "markdown",
     "metadata": {},
     "source": [
      "For example, `shear` produces a list of diagonals from a 2d list. `transpose` is like the usual matrix transpose."
     ]
    },
    {
     "cell_type": "code",
     "collapsed": false,
     "input": [
      "shear [ [ i + 2*j | i <- [0..1] ] | j <- [0..1] ]"
     ],
     "language": "python",
     "metadata": {},
     "outputs": [
      {
       "output_type": "display_data",
       "text": [
        "Loading package utility-ht-0.0.9 ... linking ... done.\n",
        "[[0],[2,1],[3]]"
       ]
      }
     ],
     "prompt_number": 1
    },
    {
     "cell_type": "code",
     "collapsed": false,
     "input": [
      "-- Data to extract length 4 slices from\n",
      "let diag4  = filter ((>=4).length) $ shear grid2d\n",
      "    diag4' = filter ((>=4).length) $ shear (reverse grid2d)\n",
      "    vert   = transpose grid2d\n",
      "    horiz  = grid2d\n",
      "    gridSec = (diag4 `union` \n",
      "               diag4' `union` \n",
      "               vert `union` \n",
      "               horiz)"
     ],
     "language": "python",
     "metadata": {},
     "outputs": [],
     "prompt_number": 1
    },
    {
     "cell_type": "markdown",
     "metadata": {},
     "source": [
      "Now, `gridSec` has a list of horizontal, vertical, and diagonal sections of the grid. Here are the first 5, notice that each section has at least 4 members."
     ]
    },
    {
     "cell_type": "code",
     "collapsed": false,
     "input": [
      "take 5 gridSec"
     ],
     "language": "python",
     "metadata": {},
     "outputs": [
      {
       "output_type": "display_data",
       "text": [
        "[[52,49,99,97],[22,70,31,40,38],[24,31,95,73,17,15],[32,47,16,23,55,81,0],[67,98,32,71,4,79,18,40]]"
       ]
      }
     ],
     "prompt_number": 1
    },
    {
     "cell_type": "markdown",
     "metadata": {},
     "source": [
      "Solution\n",
      "--------\n",
      "\n",
      "Finally, we'll map `slices` across the sections and compute the maximum of the products of all slices:"
     ]
    },
    {
     "cell_type": "code",
     "collapsed": false,
     "input": [
      "maximum $ map product [ t | s <- gridSec, t <- slices 4 s ]"
     ],
     "language": "python",
     "metadata": {},
     "outputs": [
      {
       "output_type": "display_data",
       "text": [
        "70600674"
       ]
      }
     ],
     "prompt_number": 1
    }
   ],
   "metadata": {}
  }
 ]
}